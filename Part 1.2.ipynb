{
 "cells": [
  {
   "cell_type": "markdown",
   "metadata": {},
   "source": [
    "# part 1.2\n",
    "## Python Essentials & OOP"
   ]
  },
  {
   "cell_type": "code",
   "execution_count": 1,
   "metadata": {},
   "outputs": [],
   "source": [
    "import numpy as np\n",
    "from matplotlib import pyplot as plt\n",
    "\n",
    "%matplotlib inline"
   ]
  },
  {
   "cell_type": "markdown",
   "metadata": {},
   "source": [
    "## Exercise 1\n",
    "\n",
    "Part 1: Given two numeric lists or tuples x_vals and y_vals of equal length, compute their inner product using zip()\n",
    "\n",
    "Part 2: In one line, count the number of even numbers in 0,…,99\n",
    "\n",
    "    Hint: x % 2 returns 0 if x is even, 1 otherwise\n",
    "\n",
    "Part 3: Given pairs = ((2, 5), (4, 2), (9, 8), (12, 10)), count the number of pairs (a, b) such that both a and b are even"
   ]
  },
  {
   "cell_type": "code",
   "execution_count": 15,
   "metadata": {},
   "outputs": [
    {
     "name": "stdout",
     "output_type": "stream",
     "text": [
      "Part 1\n",
      "\n",
      "True\n",
      "[101, 204, 309, 416, 525, 636, 749, 864, 981, 1100, 1221, 1344, 1469, 1596, 1725, 1856, 1989, 2124, 2261, 2400, 2541, 2684, 2829, 2976, 3125, 3276, 3429, 3584, 3741, 3900, 4061, 4224, 4389, 4556, 4725, 4896, 5069, 5244, 5421, 5600, 5781, 5964, 6149, 6336, 6525, 6716, 6909, 7104, 7301, 7500, 7701, 7904, 8109, 8316, 8525, 8736, 8949, 9164, 9381, 9600, 9821, 10044, 10269, 10496, 10725, 10956, 11189, 11424, 11661, 11900, 12141, 12384, 12629, 12876, 13125, 13376, 13629, 13884, 14141, 14400, 14661, 14924, 15189, 15456, 15725, 15996, 16269, 16544, 16821, 17100, 17381, 17664, 17949, 18236, 18525, 18816, 19109, 19404, 19701, 20000]\n",
      "\n",
      "Part 2\n",
      "\n",
      "50\n",
      "\n",
      "Part 3\n",
      "\n",
      "2 pairs out of 4 are fully even\n"
     ]
    }
   ],
   "source": [
    "x, y = list(z for z in range(1,101)),list(z for z in range(101,201))\n",
    "print(\"Part 1\\n\")\n",
    "print(len(x)==len(y))\n",
    "print([x*y for x,y in zip(x,y)])\n",
    "\n",
    "print(\"\\nPart 2\\n\")\n",
    "print(sum([_%2 for _ in x]))\n",
    "\n",
    "print(\"\\nPart 3\\n\")\n",
    "\n",
    "pairs = ((2, 5), (4, 2), (9, 8), (12, 10))\n",
    "print(\"{} pairs out of {} are fully even\".format(sum([1 if(x%2==y%2==0) else 0 for (x,y) in pairs]),len(pairs)))"
   ]
  },
  {
   "cell_type": "markdown",
   "metadata": {},
   "source": [
    "## Exercise 2\n",
    "\n",
    "Consider the polynomial\n",
    "(1)\n",
    "p(x)=a0+a1x+a2x2+⋯anxn=∑i=0naixi\n",
    "\n",
    "Write a function p such that p(x, coeff) that computes the value in (1) given a point x and a list of coefficients coeff\n",
    "\n",
    "Try to use enumerate() in your loop"
   ]
  },
  {
   "cell_type": "code",
   "execution_count": 20,
   "metadata": {},
   "outputs": [
    {
     "data": {
      "text/plain": [
       "(6, 4950)"
      ]
     },
     "execution_count": 20,
     "metadata": {},
     "output_type": "execute_result"
    }
   ],
   "source": [
    "def coeffcompute(x:int, coeff:list)->float:\n",
    "    return sum([i*x**ix for (ix,i) in enumerate(coeff)])\n",
    "\n",
    "coeffs = np.arange(1,100,1)\n",
    "\n",
    "coeffcompute(1,(2,4)),coeffcompute(1,coeffs)"
   ]
  },
  {
   "cell_type": "markdown",
   "metadata": {},
   "source": [
    "## Exercise 3\n",
    "\n",
    "Write a function that takes a string as an argument and returns the number of capital letters in the string\n",
    "\n",
    "Hint: 'foo'.upper() returns 'FOO'"
   ]
  },
  {
   "cell_type": "code",
   "execution_count": 25,
   "metadata": {},
   "outputs": [
    {
     "data": {
      "text/plain": [
       "3"
      ]
     },
     "execution_count": 25,
     "metadata": {},
     "output_type": "execute_result"
    }
   ],
   "source": [
    "def countUPPERS(x:str)->int:\n",
    "    return sum([1 for _ in x if _.isupper()])\n",
    "\n",
    "countUPPERS(\"#@23FOObar\")"
   ]
  },
  {
   "cell_type": "markdown",
   "metadata": {},
   "source": [
    "## Exercise 4\n",
    "\n",
    "Write a function that takes two sequences seq_a and seq_b as arguments and returns True if every element in seq_a is also an element of seq_b, else False\n",
    "\n",
    "    By “sequence” we mean a list, a tuple or a string\n",
    "    Do the exercise without using sets and set methods"
   ]
  },
  {
   "cell_type": "code",
   "execution_count": 51,
   "metadata": {},
   "outputs": [
    {
     "data": {
      "text/plain": [
       "(True, False)"
      ]
     },
     "execution_count": 51,
     "metadata": {},
     "output_type": "execute_result"
    }
   ],
   "source": [
    "def seqCOMP(seq_a,seq_b)->bool:\n",
    "    return len([True for x in seq_a if x in seq_b])==len(seq_a)\n",
    "\n",
    "seqCOMP(\"FBAR\",\"FOOBAR\"),seqCOMP(\"XKCD\",\"FOOBAR\")"
   ]
  },
  {
   "cell_type": "markdown",
   "metadata": {},
   "source": [
    "## Exercise 5\n",
    "\n",
    "When we cover the numerical libraries, we will see they include many alternatives for interpolation and function approximation\n",
    "\n",
    "Nevertheless, let’s write our own function approximation routine as an exercise\n",
    "\n",
    "In particular, without using any imports, write a function linapprox that takes as arguments\n",
    "\n",
    "    A function f mapping some interval [a,b]\n",
    "\n",
    "into R\n",
    "\n",
    "    two scalars a and b providing the limits of this interval\n",
    "    An integer n determining the number of grid points\n",
    "    A number x satisfying a <= x <= b\n",
    "\n",
    "and returns the piecewise linear interpolation of f at x, based on n evenly spaced grid points a = point[0] < point[1] < ... < point[n-1] = b\n",
    "\n",
    "Aim for clarity, not efficiency"
   ]
  },
  {
   "cell_type": "code",
   "execution_count": 73,
   "metadata": {},
   "outputs": [
    {
     "data": {
      "text/plain": [
       "(5.084931521682243, 5.085131867217447)"
      ]
     },
     "execution_count": 73,
     "metadata": {},
     "output_type": "execute_result"
    }
   ],
   "source": [
    "def simplefunc(x):\n",
    "    return 2**x + 3\n",
    "\n",
    "\n",
    "def linapprox(f:object,lowlim:float,upplim:float,n:int,x:float)->object:\n",
    "    \"\"\"\n",
    "    params:\n",
    "        \n",
    "        f (object): function to approximate\n",
    "        \n",
    "        lowlim, upplim (int, float): scalars defining limits of function param in f\n",
    "        \n",
    "        n (int): number of points to interpolate inside range a->b \n",
    "        \n",
    "        x (int, float): scalar, a number inside range a->b\n",
    "        \n",
    "    \"\"\"\n",
    "    \n",
    "    num_range = upplim - lowlim\n",
    "    num_inc = num_range/n\n",
    "    \n",
    "    newrange = [lowlim+num_inc*x for x in range(1,n)]\n",
    "    \n",
    "    point = max([_ for _ in newrange if _<=x])\n",
    "    \n",
    "    x_, xx_ = point, point+num_inc\n",
    "    \n",
    "    return f(x_) + (x - x_) * (f(xx_) - f(x_)) / (xx_ - x_)\n",
    "    \n",
    "simplefunc(1.06), linapprox(simplefunc,1.0,5.0,100,1.06)\n",
    "    "
   ]
  }
 ],
 "metadata": {
  "kernelspec": {
   "display_name": "Python 3",
   "language": "python",
   "name": "python3"
  },
  "language_info": {
   "codemirror_mode": {
    "name": "ipython",
    "version": 3
   },
   "file_extension": ".py",
   "mimetype": "text/x-python",
   "name": "python",
   "nbconvert_exporter": "python",
   "pygments_lexer": "ipython3",
   "version": "3.7.1"
  }
 },
 "nbformat": 4,
 "nbformat_minor": 2
}
