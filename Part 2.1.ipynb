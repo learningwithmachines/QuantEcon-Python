{
 "cells": [
  {
   "cell_type": "markdown",
   "metadata": {},
   "source": [
    "# NumPy"
   ]
  },
  {
   "cell_type": "code",
   "execution_count": 1,
   "metadata": {
    "ExecuteTime": {
     "end_time": "2018-11-20T17:50:09.484452Z",
     "start_time": "2018-11-20T17:50:09.292309Z"
    }
   },
   "outputs": [],
   "source": [
    "import numpy as np\n",
    "from matplotlib import pyplot as plt\n",
    "\n",
    "%matplotlib inline"
   ]
  },
  {
   "cell_type": "markdown",
   "metadata": {},
   "source": [
    "## Exercise 1\n",
    "\n",
    "Consider the polynomial expression\n",
    "(1)\n",
    "p(x)=a0+a1x+a2x2+⋯aNxN=∑n=0Nanxn\n",
    "\n",
    "Earlier, you wrote a simple function p(x, coeff) to evaluate (1) without considering efficiency\n",
    "\n",
    "Now write a new function that does the same job, but uses NumPy arrays and array operations for its computations, rather than any form of Python loop\n",
    "\n",
    "(Such functionality is already implemented as np.poly1d, but for the sake of the exercise don’t use this class)\n",
    "\n",
    "`Hint: Use np.cumprod()`\n"
   ]
  },
  {
   "cell_type": "code",
   "execution_count": 2,
   "metadata": {
    "ExecuteTime": {
     "end_time": "2018-11-20T17:50:09.488519Z",
     "start_time": "2018-11-20T17:50:09.485892Z"
    }
   },
   "outputs": [],
   "source": [
    "def np_compute_poly(coeffs:np.ndarray,x:np.float64)->np.float64:\n",
    "    \n",
    "    x_arr = np.empty((coeffs.shape[0]))\n",
    "    x_arr[0],x_arr[1:]=1, x\n",
    "    return np.cumprod(x_arr) @ coeffs"
   ]
  },
  {
   "cell_type": "code",
   "execution_count": 3,
   "metadata": {
    "ExecuteTime": {
     "end_time": "2018-11-20T17:50:09.494480Z",
     "start_time": "2018-11-20T17:50:09.489850Z"
    }
   },
   "outputs": [
    {
     "data": {
      "text/plain": [
       "((3,), 1, 3.0)"
      ]
     },
     "execution_count": 3,
     "metadata": {},
     "output_type": "execute_result"
    }
   ],
   "source": [
    "coeffs = np.ones(3)\n",
    "x = 1\n",
    "\n",
    "coeffs.shape, x, np_compute_poly(coeffs=coeffs,x=x)"
   ]
  },
  {
   "cell_type": "markdown",
   "metadata": {},
   "source": [
    "## Exercise 2\n",
    "\n",
    "Let `q` be a NumPy array of length n with `q.sum() == 1`\n",
    "\n",
    "Suppose that `q` represents a probability mass function\n",
    "\n",
    "We wish to generate a discrete random variable x\n",
    "such that P{x=i}=qi\n",
    "\n",
    "In other words, `x` takes values in `range(len(q))` and `x = i` with probability `q[i]`\n",
    "\n",
    "The standard (inverse transform) algorithm is as follows:\n",
    "\n",
    "    Divide the unit interval [0,1] into n subintervals I0,I1,…,In−1 such that the length of Ii is qi\n",
    "    \n",
    "    Draw a uniform random variable U on [0,1] and return the i such that U∈Ii\n",
    "\n",
    "The probability of drawing i is the length of Ii, which is equal to qi\n",
    "\n",
    "We can implement the algorithm as follows:\n",
    "\n",
    "```\n",
    "from random import uniform\n",
    "\n",
    "def sample(q):\n",
    "    a = 0.0\n",
    "    U = uniform(0, 1)\n",
    "    for i in range(len(q)):\n",
    "        if a < U <= a + q[i]:\n",
    "            return i\n",
    "        a = a + q[i\n",
    "```\n",
    "\n",
    "If you can’t see how this works, try thinking through the flow for a simple example, such as `q = [0.25, 0.75]` It helps to sketch the intervals on paper\n",
    "\n",
    "Your exercise is to speed it up using NumPy, avoiding explicit loops\n",
    "\n",
    "* Hint: Use `np.searchsorted` and `np.cumsum`\n",
    "\n",
    "If you can, implement the functionality as a class called discreteRV, where:\n",
    "\n",
    "* the data for an instance of the class is the vector of probabilities `q`\n",
    "* the class has a `draw()` method, which returns one draw according to the algorithm described above.\n",
    "\n",
    "If you can, write the method so that `draw(k)` returns `k` draws from `q`"
   ]
  },
  {
   "cell_type": "code",
   "execution_count": 4,
   "metadata": {
    "ExecuteTime": {
     "end_time": "2018-11-20T17:50:09.498965Z",
     "start_time": "2018-11-20T17:50:09.495565Z"
    }
   },
   "outputs": [],
   "source": [
    "class discreteRV:\n",
    "    \n",
    "    def __init__(self, q:np.ndarray)->None:\n",
    "        \n",
    "        self.q = q\n",
    "        #prep q for use with searchsorted\n",
    "        self.Qsum = np.cumsum(self.q)\n",
    "        \n",
    "    def draw(self, k:int=1)->np.ndarray:\n",
    "        # return k draws from q\n",
    "        # using searchsorted\n",
    "        \n",
    "        return self.Qsum.searchsorted(np.random.uniform(0,1, size=k))"
   ]
  },
  {
   "cell_type": "code",
   "execution_count": 5,
   "metadata": {
    "ExecuteTime": {
     "end_time": "2018-11-20T17:50:09.655881Z",
     "start_time": "2018-11-20T17:50:09.500598Z"
    }
   },
   "outputs": [
    {
     "name": "stdout",
     "output_type": "stream",
     "text": [
      "True \n",
      "\n"
     ]
    },
    {
     "data": {
      "text/plain": [
       "(array([ 9.,  7.,  3.,  5.,  9.,  8., 10.,  5.,  7., 37.]),\n",
       " array([ 1. ,  2.1,  3.2,  4.3,  5.4,  6.5,  7.6,  8.7,  9.8, 10.9, 12. ]),\n",
       " <a list of 10 Patch objects>)"
      ]
     },
     "execution_count": 5,
     "metadata": {},
     "output_type": "execute_result"
    },
    {
     "data": {
      "image/png": "[encoded data removed]",
      "text/plain": [
       "<Figure size 432x288 with 1 Axes>"
      ]
     },
     "metadata": {
      "needs_background": "light"
     },
     "output_type": "display_data"
    }
   ],
   "source": [
    "q = (0.01,0.02,0.03,0.04,0.05,0.06,0.07,0.08,0.09,0.1,0.11,0.12,0.22)\n",
    "\n",
    "d = discreteRV(q)\n",
    "print(sum(q)==1,\"\\n\")\n",
    "\n",
    "plt.hist(d.draw(100))"
   ]
  },
  {
   "cell_type": "markdown",
   "metadata": {},
   "source": [
    "## Exercise 3\n",
    "\n",
    "Recall our earlier discussion of the empirical cumulative distribution function:\n",
    "\n",
    "#### From OOP-II - Ex-1\n",
    "\n",
    "The empirical cumulative distribution function (ecdf) corresponding to a sample {Xi}ni=1 is defined as\n",
    "\n",
    "$$F_n(x) := \\frac{1}{n}  \\sum_{i=1}^n \\mathbf{1}\\{X_i \\leq x\\}\n",
    "  \\qquad (x \\in \\mathbb{R})$$\n",
    "\n",
    "Here **$\\mathbf{1}\\{X_i \\leq x\\}$** is an indicator function *(one if **$X_i \\leq x$** and zero otherwise)* and hence **$F_n(x)$** is the fraction of the sample that falls below x.\n",
    "\n",
    "The *Glivenko–Cantelli* Theorem states that, provided that the sample is iid, the *ecdf* **Fnn** converges to the true distribution function F.\n",
    "\n",
    "Implement ***$F_n$*** as a class called ***`ECDF`***, where\n",
    "\n",
    "* A given sample $\\{X_i\\}_{i=1}^n$ are the instance data, stored as `self.observations`\n",
    "* The class implements a `__call__` method that returns $F_n(x)$ for any $x$\n",
    "\n",
    "Your code should work as follows (modulo randomness)\n",
    "\n",
    "```python\n",
    "from random import uniform\n",
    "\n",
    "samples = [uniform(0, 1) for i in range(10)]\n",
    "F = ECDF(samples)\n",
    "F(0.5)  # Evaluate ecdf at x = 0.5\n",
    "```\n",
    "\n",
    "```none\n",
    "0.29\n",
    "```\n",
    "\n",
    "```python\n",
    "F.observations = [uniform(0, 1) for i in range(1000)]\n",
    "F(0.5)\n",
    "```\n",
    "\n",
    "```none\n",
    "0.479\n",
    "```\n",
    "\n",
    "#### Back to Ex-2(Part-2)\n",
    "\n",
    "Your task is to:\n",
    "    * Make the `__call__` method more efficient using NumPy \n",
    "    * Add a method that plots the ECDF over [a,b], where a and b are method parameters."
   ]
  },
  {
   "cell_type": "code",
   "execution_count": 8,
   "metadata": {
    "ExecuteTime": {
     "end_time": "2018-11-20T17:50:15.241711Z",
     "start_time": "2018-11-20T17:50:15.238612Z"
    }
   },
   "outputs": [],
   "source": [
    "class ECDF:\n",
    "    \n",
    "    def __init__(self, samples:np.ndarray)->None:\n",
    "        \n",
    "        self.observations = np.array(samples)\n",
    "        \n",
    "    def __call__(self, x:np.float64)->np.float64:\n",
    "        \n",
    "        return np.mean(self.observations <= x)\n",
    "        \n",
    "    def plot(self,a:float=None,b:float=None)->None:\n",
    "        \n",
    "        if a is None:\n",
    "            a = self.observations.min() - self.observations.std()\n",
    "        if b is None:\n",
    "            b = self.observations.min() + self.observations.std()\n",
    "            \n",
    "        values = np.linspace(a,b,100)\n",
    "        f = np.vectorize(self.__call__)\n",
    "        plt.plot(values, f(values))\n",
    "        plt.show()"
   ]
  },
  {
   "cell_type": "code",
   "execution_count": 17,
   "metadata": {
    "ExecuteTime": {
     "end_time": "2018-11-20T17:53:15.686649Z",
     "start_time": "2018-11-20T17:53:15.318886Z"
    }
   },
   "outputs": [
    {
     "data": {
      "image/png": "[encoded data removed]",
      "text/plain": [
       "<Figure size 432x288 with 1 Axes>"
      ]
     },
     "metadata": {
      "needs_background": "light"
     },
     "output_type": "display_data"
    },
    {
     "data": {
      "image/png": "[encoded data removed]",
      "text/plain": [
       "<Figure size 432x288 with 1 Axes>"
      ]
     },
     "metadata": {
      "needs_background": "light"
     },
     "output_type": "display_data"
    },
    {
     "data": {
      "image/png": "[encoded data removed]",
      "text/plain": [
       "<Figure size 432x288 with 1 Axes>"
      ]
     },
     "metadata": {
      "needs_background": "light"
     },
     "output_type": "display_data"
    },
    {
     "name": "stdout",
     "output_type": "stream",
     "text": [
      "0.8 0.816 0.815976\n"
     ]
    }
   ],
   "source": [
    "samples_10 = [np.random.randn(10)]\n",
    "samples_1K = [np.random.randn(1000)]\n",
    "samples_1M = [np.random.randn(1000000)]\n",
    "\n",
    "F_10,F_1K,F_1M = ECDF(samples_10),ECDF(samples_1K),ECDF(samples_1M)\n",
    "\n",
    "F_10.plot(-10,10),F_100.plot(-10,10),F_10K.plot(-10,10)\n",
    "print(F_10(0.9),F_1K(0.9),F_1M(0.9))"
   ]
  }
 ],
 "metadata": {
  "kernelspec": {
   "display_name": "Python 3",
   "language": "python",
   "name": "python3"
  },
  "language_info": {
   "codemirror_mode": {
    "name": "ipython",
    "version": 3
   },
   "file_extension": ".py",
   "mimetype": "text/x-python",
   "name": "python",
   "nbconvert_exporter": "python",
   "pygments_lexer": "ipython3",
   "version": "3.7.1"
  },
  "nbTranslate": {
   "displayLangs": [
    "*"
   ],
   "hotkey": "alt-t",
   "langInMainMenu": true,
   "sourceLang": "en",
   "targetLang": "fr",
   "useGoogleTranslate": true
  },
  "varInspector": {
   "cols": {
    "lenName": 16,
    "lenType": 16,
    "lenVar": 40
   },
   "kernels_config": {
    "python": {
     "delete_cmd_postfix": "",
     "delete_cmd_prefix": "del ",
     "library": "var_list.py",
     "varRefreshCmd": "print(var_dic_list())"
    },
    "r": {
     "delete_cmd_postfix": ") ",
     "delete_cmd_prefix": "rm(",
     "library": "var_list.r",
     "varRefreshCmd": "cat(var_dic_list()) "
    }
   },
   "types_to_exclude": [
    "module",
    "function",
    "builtin_function_or_method",
    "instance",
    "_Feature"
   ],
   "window_display": false
  }
 },
 "nbformat": 4,
 "nbformat_minor": 2
}
